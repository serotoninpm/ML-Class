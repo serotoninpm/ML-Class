{
 "cells": [
  {
   "cell_type": "markdown",
   "id": "consolidated-blowing",
   "metadata": {},
   "source": [
    "# 목차\n",
    "### 1. KNN 회귀분석\n",
    "### 2. 평균제곱근 오차 실습\n",
    "### 3. 선형회귀\n",
    "### 4. 보스턴 주택 가격 예측\n",
    "### 5. 릿지 회귀\n",
    "### 6. 라쏘(lasso) 회귀(Regression)\n",
    "### 7. IRIS 로지스틱 회귀 분류\n",
    "### 8. 로지스틱 분류, svm분류\n",
    "### 9. cancer data 분류: malignant vs benign"
   ]
  },
  {
   "cell_type": "markdown",
   "id": "heavy-florence",
   "metadata": {},
   "source": [
    "#### 특이사항 정리 + 고찰\n",
    "#### 1. KNN 회귀분석\n",
    "- score 함수는 결정계수를 return해줌\n",
    "- knn 회귀분석에서 test size를 변경 시, 결정계수 값의 차이가 크다.\n",
    "- sample 수가 작아서 변동폭이 크다고 생각되어, sample을 10000으로 늘려서 여러 경우를 테스트해 본 결과, 결정 계수가 안정적으로, 0.6~ 0.7사이에서 결과가 나온다.\n",
    "\n",
    "#### 2. 평균 제곱근 오차\n",
    "#### 3. 선형회귀\n",
    "- coef는 기울기를 나타내고, intercept는 절편을 나타냄\n",
    "\n",
    "#### 3.1 knn과 선형 회귀 비교\n",
    "- ax.spines는 축 설정하는 함수\n",
    "\n",
    "#### 4. 보스턴 주택 가격 예측\n",
    "- plt.scatter의 s인자는 마커의 크기를 설정한다.\n",
    "\n",
    "#### 4.1 보스턴 확장 데이터\n",
    "- colum을 확장한 보스턴 데이터\n",
    "- knn의 이웃 수가 작을 수록, train과 test의 score가 같이 높아지고 있음\n",
    "\n",
    "#### 5. 릿지 회귀\n",
    "- 테스트 세트에 과적합 되는 것을 방지하고 있음. linear, knn과 비교하여 training과 test차이가 작음\n",
    "- extended bostondata에서 0.5에서 0.1사이의 alpha값이 가장 좋은 test set 성능을 보임\n",
    "- 그래프 그릴 때, x값 생략시, 자동으로 0부터 차례로 index를 넣어줌\n",
    "\n",
    "#### 6. 라쏘 회귀\n",
    " - print(lasso.coef_ != 0)는 true false값이기 때문에 특성의 값을 구할 수 있음\n",
    "\n",
    "#### 7. IRIS 로지스틱 회귀 분류\n",
    "#### 8. 로지스틱 분류, svm분류\n",
    "#### 9. cancer data 분류: malignant vs benign\n",
    "- 규제 c는 역수가 임. 100 => 1/100 penalty가 적용됨"
   ]
  },
  {
   "cell_type": "markdown",
   "id": "liberal-grill",
   "metadata": {},
   "source": [
    "# 1. KNN 회귀 분석(regression)"
   ]
  },
  {
   "cell_type": "code",
   "execution_count": 1,
   "id": "recovered-legend",
   "metadata": {},
   "outputs": [],
   "source": [
    "from sklearn.neighbors import KNeighborsRegressor\n",
    "from sklearn.model_selection import train_test_split\n",
    "import mglearn\n",
    "import numpy as np\n",
    "import matplotlib.pyplot as plt\n",
    "import pandas as pd\n",
    "from preamble import *\n",
    "\n",
    "%matplotlib inline\n"
   ]
  },
  {
   "cell_type": "code",
   "execution_count": 2,
   "id": "animated-number",
   "metadata": {},
   "outputs": [],
   "source": [
    "#맥에서 폰트문제 해결하기\n",
    "from matplotlib import rc\n",
    "rc('font', family=\"AppleGothic\")"
   ]
  },
  {
   "cell_type": "markdown",
   "id": "round-locator",
   "metadata": {},
   "source": [
    "## 첫 번째 knn회귀 실험"
   ]
  },
  {
   "cell_type": "code",
   "execution_count": 3,
   "id": "pleased-porter",
   "metadata": {},
   "outputs": [
    {
     "data": {
      "text/plain": [
       "KNeighborsRegressor(n_neighbors=3)"
      ]
     },
     "execution_count": 3,
     "metadata": {},
     "output_type": "execute_result"
    }
   ],
   "source": [
    "X, y =mglearn.datasets.make_wave(n_samples=40)\n",
    "\n",
    "# 훈련세트와 테스트세트 나누기\n",
    "X_train, X_test, y_train, y_test = train_test_split(X, y, random_state = 0)\n",
    "\n",
    "# 이웃의 수를 3으로 하여 모델의 객체를 만듭니다.\n",
    "reg = KNeighborsRegressor(n_neighbors =3)\n",
    "\n",
    "#훈련 데이터와 타깃을 사용하여 모델을 학습시킴\n",
    "reg.fit(X_train, y_train)"
   ]
  },
  {
   "cell_type": "code",
   "execution_count": 4,
   "id": "alternative-cooking",
   "metadata": {},
   "outputs": [
    {
     "name": "stdout",
     "output_type": "stream",
     "text": [
      "테스트 세트 예륵:\n",
      "[-0.054  0.357  1.137 -1.894 -1.139 -1.631  0.357  0.912 -0.447 -1.139]\n"
     ]
    }
   ],
   "source": [
    "print(\"테스트 세트 예륵:\\n{}\".format(reg.predict(X_test)))"
   ]
  },
  {
   "cell_type": "code",
   "execution_count": 5,
   "id": "packed-participant",
   "metadata": {},
   "outputs": [
    {
     "name": "stdout",
     "output_type": "stream",
     "text": [
      "테스트 세트 R^2: 0.83\n"
     ]
    }
   ],
   "source": [
    "print(\"테스트 세트 R^2: {:.2f}\".format(reg.score(X_test, y_test)))"
   ]
  },
  {
   "cell_type": "markdown",
   "id": "academic-tractor",
   "metadata": {},
   "source": [
    "## 두 번째 knn회귀 실험 \n"
   ]
  },
  {
   "cell_type": "code",
   "execution_count": 6,
   "id": "proved-developer",
   "metadata": {},
   "outputs": [
    {
     "data": {
      "text/plain": [
       "KNeighborsRegressor(n_neighbors=3)"
      ]
     },
     "execution_count": 6,
     "metadata": {},
     "output_type": "execute_result"
    }
   ],
   "source": [
    "X, y =mglearn.datasets.make_wave(n_samples=10000)\n",
    "\n",
    "# 훈련세트와 테스트세트 나누기\n",
    "X_train, X_test, y_train, y_test = train_test_split(X, y, random_state = 3, test_size=0.5)\n",
    "\n",
    "# 이웃의 수를 3으로 하여 모델의 객체를 만듭니다.\n",
    "reg = KNeighborsRegressor(n_neighbors =3)\n",
    "\n",
    "#훈련 데이터와 타깃을 사용하여 모델을 학습시킴\n",
    "reg.fit(X_train, y_train)"
   ]
  },
  {
   "cell_type": "code",
   "execution_count": 7,
   "id": "associate-stroke",
   "metadata": {},
   "outputs": [
    {
     "name": "stdout",
     "output_type": "stream",
     "text": [
      "테스트 세트 예륵:\n",
      "[ 1.049 -0.075  1.154 ... -1.434 -0.59   0.221]\n"
     ]
    }
   ],
   "source": [
    "print(\"테스트 세트 예륵:\\n{}\".format(reg.predict(X_test)))"
   ]
  },
  {
   "cell_type": "code",
   "execution_count": 8,
   "id": "skilled-still",
   "metadata": {},
   "outputs": [
    {
     "name": "stdout",
     "output_type": "stream",
     "text": [
      "테스트 세트 R^2: 0.67\n"
     ]
    }
   ],
   "source": [
    "print(\"테스트 세트 R^2: {:.2f}\".format(reg.score(X_test, y_test)))"
   ]
  },
  {
   "cell_type": "markdown",
   "id": "cathedral-leisure",
   "metadata": {},
   "source": [
    "## 참고할 neighbor 수를 변경하여, 성능 측정"
   ]
  },
  {
   "cell_type": "code",
   "execution_count": 9,
   "id": "advanced-lover",
   "metadata": {},
   "outputs": [],
   "source": [
    "X, y =mglearn.datasets.make_wave(n_samples=40)\n",
    "\n",
    "# 훈련세트와 테스트세트 나누기\n",
    "X_train, X_test, y_train, y_test = train_test_split(X, y, random_state =0, test_size=0.2)"
   ]
  },
  {
   "cell_type": "code",
   "execution_count": 10,
   "id": "answering-recipe",
   "metadata": {},
   "outputs": [
    {
     "name": "stdout",
     "output_type": "stream",
     "text": [
      "X_train.shpae: (32, 1) X_test.shape: (8, 1)\n",
      "X_train.shpae: (32, 1) X_test.shape: (8, 1)\n",
      "X_train.shpae: (32, 1) X_test.shape: (8, 1)\n"
     ]
    },
    {
     "data": {
      "text/plain": [
       "<matplotlib.legend.Legend at 0x7f908a7ee490>"
      ]
     },
     "execution_count": 10,
     "metadata": {},
     "output_type": "execute_result"
    },
    {
     "data": {
      "image/png": "[encoded data removed]",
      "text/plain": [
       "<Figure size 1080x288 with 3 Axes>"
      ]
     },
     "metadata": {
      "needs_background": "light"
     },
     "output_type": "display_data"
    }
   ],
   "source": [
    "fig, axes = plt.subplots(1,3, figsize=(15,4))\n",
    "\n",
    "#이웃 수를 1, 3, 9로 변경하여 성능 test\n",
    "for n_neighbors, ax in zip([1, 3, 9], axes):\n",
    "    reg = KNeighborsRegressor(n_neighbors=n_neighbors)\n",
    "    print(\"X_train.shpae: {}\".format(X_train.shape), \"X_test.shape: {}\".format(X_test.shape))\n",
    "    reg.fit(X_train, y_train)\n",
    "    ax.plot(X_test, reg.predict(X_test), 'v', c=mglearn.cm3(2), markersize=8)\n",
    "    ax.plot(X_train, y_train, '^', c=mglearn.cm2(0), markersize=8)\n",
    "    ax.plot(X_test, y_test, 'v', c=mglearn.cm2(1), markersize=8)\n",
    "\n",
    "    ax.set_title(\"{} 이웃의 훈련 스코어: {:.2f} 테스트 스코어: {:.2f}\".format(n_neighbors, reg.score(X_train, y_train), reg.score(X_test, y_test)))\n",
    "    ax.set_xlabel(\"특성\")\n",
    "    ax.set_ylabel(\"타깃\")\n",
    "axes[0].legend([\"모델 예측\", \"훈련 데이터/타깃\",\"테스트 데이터/타깃\"], loc=\"best\")\n"
   ]
  },
  {
   "cell_type": "code",
   "execution_count": 11,
   "id": "alpine-freeware",
   "metadata": {
    "scrolled": true
   },
   "outputs": [
    {
     "data": {
      "text/plain": [
       "<matplotlib.legend.Legend at 0x7f908faf6890>"
      ]
     },
     "execution_count": 11,
     "metadata": {},
     "output_type": "execute_result"
    },
    {
     "data": {
      "image/png": "[encoded data removed]",
      "text/plain": [
       "<Figure size 1080x288 with 3 Axes>"
      ]
     },
     "metadata": {
      "needs_background": "light"
     },
     "output_type": "display_data"
    }
   ],
   "source": [
    "# 임의의 값을 넣어서(-3 부터 3까지 1000개의 데이터 생성), 모델 예측 line 넣기\n",
    "fig, axes = plt.subplots(1,3, figsize=(15,4))\n",
    "# -3과 3 사이에 1000개의 데이터 포이트를 만든다\n",
    "line = np.linspace(-3,3,1000).reshape(-1,1)\n",
    "\n",
    "#이웃 수를 1, 3, 9로 변경하여 성능 test\n",
    "for n_neighbors, ax in zip([1, 3, 9], axes):\n",
    "    reg = KNeighborsRegressor(n_neighbors=n_neighbors)\n",
    "    reg.fit(X_train, y_train)\n",
    "    ax.plot(line, reg.predict(line))\n",
    "    ax.plot(X_train, y_train, '^', c=mglearn.cm2(0), markersize=8)\n",
    "    ax.plot(X_test, y_test, 'v', c=mglearn.cm2(1), markersize=8)\n",
    "\n",
    "    ax.set_title(\"{} 이웃의 훈련 스코어: {:.2f} 테스트 스코어: {:.2f}\".format(n_neighbors, reg.score(X_train, y_train), reg.score(X_test, y_test)))\n",
    "    ax.set_xlabel(\"특성\")\n",
    "    ax.set_ylabel(\"타깃\")\n",
    "axes[0].legend([\"모델 예측\", \"훈련 데이터/타깃\",\"테스트 데이터/타깃\"], loc=\"best\")"
   ]
  },
  {
   "cell_type": "markdown",
   "id": "turkish-commission",
   "metadata": {},
   "source": [
    "# 2. 평균 제곱오차 실습"
   ]
  },
  {
   "cell_type": "code",
   "execution_count": 12,
   "id": "recorded-italian",
   "metadata": {},
   "outputs": [],
   "source": [
    "import numpy as np\n",
    "\n",
    "#기울기 a와 y절편 b\n",
    "ab = [3, 76]\n",
    "\n",
    "# x,y의 데이터 값\n",
    "data = [[2,81],[4,93],[6,91],[8,97]]\n",
    "x = [i[0] for i in data]\n",
    "y = [i[1] for i in data]\n",
    "\n",
    "# y = ax + b에 a와 b 값을 대입하여 결과를 출력하는 함수\n",
    "\n",
    "def predict(x):\n",
    "    return ab[0]*x + ab[1]"
   ]
  },
  {
   "cell_type": "code",
   "execution_count": 13,
   "id": "worthy-friendship",
   "metadata": {},
   "outputs": [
    {
     "name": "stdout",
     "output_type": "stream",
     "text": [
      "공부한 시간 = 2, 실제 점수 = 81, 예측 점수 = 82\n",
      "공부한 시간 = 4, 실제 점수 = 93, 예측 점수 = 88\n",
      "공부한 시간 = 6, 실제 점수 = 91, 예측 점수 = 94\n",
      "공부한 시간 = 8, 실제 점수 = 97, 예측 점수 = 100\n"
     ]
    }
   ],
   "source": [
    "#RMSE 함수\n",
    "def rmse(p,a):\n",
    "    return np.sqrt(((p-a)**2).mean())\n",
    "\n",
    "#RMSE 함수를 각 y 값에 대입하여 최종 값을 구하는 함수\n",
    "def rmse_val(predict_result,y):\n",
    "    return rmse(np.array(predict_result), np.array(y))\n",
    "\n",
    "# 예측 값이 들어갈 빈 리스트\n",
    "predict_result = []\n",
    "\n",
    "# 모든 x 값을 한 번씩 대입하여\n",
    "for i in range(len(x)):\n",
    "    #predict_result 리스트 완성\n",
    "    predict_result.append(predict(x[i]))\n",
    "    print(\"공부한 시간 = %.f, 실제 점수 = %.f, 예측 점수 = %.f\" %(x[i], y[i], predict(x[i])))"
   ]
  },
  {
   "cell_type": "code",
   "execution_count": 14,
   "id": "frozen-management",
   "metadata": {},
   "outputs": [
    {
     "name": "stdout",
     "output_type": "stream",
     "text": [
      "rmse 최종값:  3.3166247903554\n"
     ]
    }
   ],
   "source": [
    "# 최종 RMSE 출력\n",
    "print(\"rmse 최종값: \", str(rmse_val(predict_result, y)))"
   ]
  },
  {
   "cell_type": "markdown",
   "id": "stable-norway",
   "metadata": {},
   "source": [
    "# 3. 선형회귀"
   ]
  },
  {
   "cell_type": "code",
   "execution_count": 15,
   "id": "disabled-holder",
   "metadata": {},
   "outputs": [],
   "source": [
    "from sklearn.linear_model import LinearRegression"
   ]
  },
  {
   "cell_type": "code",
   "execution_count": 16,
   "id": "graduate-portland",
   "metadata": {},
   "outputs": [],
   "source": [
    "X, y = mglearn.datasets.make_wave(n_samples=60)\n",
    "X_train, X_test, y_train, y_test = train_test_split(X,y, random_state=42)\n",
    "lr = LinearRegression().fit(X_train, y_train)"
   ]
  },
  {
   "cell_type": "code",
   "execution_count": 17,
   "id": "likely-cloud",
   "metadata": {},
   "outputs": [
    {
     "name": "stdout",
     "output_type": "stream",
     "text": [
      "훈련 세트 점수: 0.67\n",
      "테스트 세트 점수: 0.66\n"
     ]
    }
   ],
   "source": [
    "print(\"훈련 세트 점수: {:.2f}\".format(lr.score(X_train, y_train)))\n",
    "print(\"테스트 세트 점수: {:.2f}\".format(lr.score(X_test, y_test)))"
   ]
  },
  {
   "cell_type": "code",
   "execution_count": 18,
   "id": "employed-variance",
   "metadata": {},
   "outputs": [
    {
     "name": "stdout",
     "output_type": "stream",
     "text": [
      "lr.coef_: [0.394]\n",
      "lr.intercept_: -0.031804343026759746\n"
     ]
    }
   ],
   "source": [
    "print(\"lr.coef_:\", lr.coef_)\n",
    "print(\"lr.intercept_:\",lr.intercept_)"
   ]
  },
  {
   "cell_type": "markdown",
   "id": "combined-distance",
   "metadata": {},
   "source": [
    "# 3.1 선형회귀와 knn비교"
   ]
  },
  {
   "cell_type": "code",
   "execution_count": 19,
   "id": "little-fossil",
   "metadata": {},
   "outputs": [
    {
     "data": {
      "image/png": "[encoded data removed]",
      "text/plain": [
       "<Figure size 576x576 with 1 Axes>"
      ]
     },
     "metadata": {
      "needs_background": "light"
     },
     "output_type": "display_data"
    }
   ],
   "source": [
    "X, y = mglearn.datasets.make_wave(n_samples=60)\n",
    "X_train, X_test, y_train, y_test = train_test_split(X,y, random_state=42)\n",
    "lr = LinearRegression().fit(X_train, y_train)\n",
    "reg = KNeighborsRegressor(n_neighbors=3).fit(X_train, y_train)\n",
    "line = np.linspace(-3,3,1000).reshape(-1,1)\n",
    "\n",
    "plt.figure(figsize=(8,8))\n",
    "\n",
    "#훈련셋\n",
    "plt.plot(X_train, y_train, \"o\", c= mglearn.cm2(0))\n",
    "\n",
    "#테스트셋\n",
    "plt.plot(X_test, y_test, 'v', c=mglearn.cm2(1) ,markersize = 8)\n",
    "\n",
    "#knn예측\n",
    "plt.plot(X_test, reg.predict(X_test), \"v\", c=mglearn.cm3(2),markersize =8)\n",
    "\n",
    "#linearregression예측\n",
    "plt.plot(line, lr.predict(line))\n",
    "\n",
    "ax = plt.gca()\n",
    "ax.spines['left'].set_position('center')\n",
    "ax.spines['right'].set_color('none')\n",
    "ax.spines['bottom'].set_position('center')\n",
    "ax.spines['top'].set_color('none')\n",
    "ax.set_ylim(-3,3)\n",
    "ax.legend([\"모델\", \"훈련 데이터\", \"테스트\", \"KNN\"],loc = \"best\")\n",
    "ax.grid(True)\n",
    "ax.set_aspect('equal')\n"
   ]
  },
  {
   "cell_type": "markdown",
   "id": "stretch-redhead",
   "metadata": {},
   "source": [
    "# 보스턴 주택 가격 예측"
   ]
  },
  {
   "cell_type": "code",
   "execution_count": 20,
   "id": "neutral-detective",
   "metadata": {},
   "outputs": [
    {
     "name": "stdout",
     "output_type": "stream",
     "text": [
      "boston.keys(): dict_keys(['data', 'target', 'feature_names', 'DESCR', 'filename'])\n",
      "\n",
      "Data의 크기: (506, 13)\n",
      "\n",
      "특성 이름: \n",
      " ['CRIM' 'ZN' 'INDUS' 'CHAS' 'NOX' 'RM' 'AGE' 'DIS' 'RAD' 'TAX' 'PTRATIO'\n",
      " 'B' 'LSTAT'] \n",
      "\n",
      "       CRIM    ZN  INDUS  CHAS  ...    TAX  PTRATIO       B  LSTAT\n",
      "0  6.32e-03  18.0   2.31   0.0  ...  296.0     15.3  396.90   4.98\n",
      "1  2.73e-02   0.0   7.07   0.0  ...  242.0     17.8  396.90   9.14\n",
      "2  2.73e-02   0.0   7.07   0.0  ...  242.0     17.8  392.83   4.03\n",
      "3  3.24e-02   0.0   2.18   0.0  ...  222.0     18.7  394.63   2.94\n",
      "4  6.91e-02   0.0   2.18   0.0  ...  222.0     18.7  396.90   5.33\n",
      "\n",
      "[5 rows x 13 columns]\n"
     ]
    }
   ],
   "source": [
    "#데이터 확인\n",
    "from sklearn.datasets import load_boston\n",
    "boston= load_boston()\n",
    "\n",
    "print(\"boston.keys(): {}\\n\".format(boston.keys()))\n",
    "print(\"Data의 크기: {}\\n\".format(boston['data'].shape))\n",
    "print(\"특성 이름: \\n {} \\n\".format(boston.feature_names))\n",
    "\n",
    "df = pd.DataFrame(boston.data, columns = boston.feature_names)\n",
    "print(df.head())"
   ]
  },
  {
   "cell_type": "code",
   "execution_count": 21,
   "id": "younger-excuse",
   "metadata": {},
   "outputs": [
    {
     "data": {
      "text/plain": [
       "(506,)"
      ]
     },
     "execution_count": 21,
     "metadata": {},
     "output_type": "execute_result"
    }
   ],
   "source": [
    "boston.data[:,5].shape"
   ]
  },
  {
   "cell_type": "code",
   "execution_count": 22,
   "id": "thick-component",
   "metadata": {
    "scrolled": true
   },
   "outputs": [
    {
     "data": {
      "text/plain": [
       "array([24. , 21.6, 34.7, 33.4, 36.2, 28.7, 22.9, 27.1, 16.5, 18.9, 15. ,\n",
       "       18.9, 21.7, 20.4, 18.2, 19.9, 23.1, 17.5, 20.2, 18.2, 13.6, 19.6,\n",
       "       15.2, 14.5, 15.6, 13.9, 16.6, 14.8, 18.4, 21. , 12.7, 14.5, 13.2,\n",
       "       13.1, 13.5, 18.9, 20. , 21. , 24.7, 30.8, 34.9, 26.6, 25.3, 24.7,\n",
       "       21.2, 19.3, 20. , 16.6, 14.4, 19.4, 19.7, 20.5, 25. , 23.4, 18.9,\n",
       "       35.4, 24.7, 31.6, 23.3, 19.6, 18.7, 16. , 22.2, 25. , 33. , 23.5,\n",
       "       19.4, 22. , 17.4, 20.9, 24.2, 21.7, 22.8, 23.4, 24.1, 21.4, 20. ,\n",
       "       20.8, 21.2, 20.3, 28. , 23.9, 24.8, 22.9, 23.9, 26.6, 22.5, 22.2,\n",
       "       23.6, 28.7, 22.6, 22. , 22.9, 25. , 20.6, 28.4, 21.4, 38.7, 43.8,\n",
       "       33.2, 27.5, 26.5, 18.6, 19.3, 20.1, 19.5, 19.5, 20.4, 19.8, 19.4,\n",
       "       21.7, 22.8, 18.8, 18.7, 18.5, 18.3, 21.2, 19.2, 20.4, 19.3, 22. ,\n",
       "       20.3, 20.5, 17.3, 18.8, 21.4, 15.7, 16.2, 18. , 14.3, 19.2, 19.6,\n",
       "       23. , 18.4, 15.6, 18.1, 17.4, 17.1, 13.3, 17.8, 14. , 14.4, 13.4,\n",
       "       15.6, 11.8, 13.8, 15.6, 14.6, 17.8, 15.4, 21.5, 19.6, 15.3, 19.4,\n",
       "       17. , 15.6, 13.1, 41.3, 24.3, 23.3, 27. , 50. , 50. , 50. , 22.7,\n",
       "       25. , 50. , 23.8, 23.8, 22.3, 17.4, 19.1, 23.1, 23.6, 22.6, 29.4,\n",
       "       23.2, 24.6, 29.9, 37.2, 39.8, 36.2, 37.9, 32.5, 26.4, 29.6, 50. ,\n",
       "       32. , 29.8, 34.9, 37. , 30.5, 36.4, 31.1, 29.1, 50. , 33.3, 30.3,\n",
       "       34.6, 34.9, 32.9, 24.1, 42.3, 48.5, 50. , 22.6, 24.4, 22.5, 24.4,\n",
       "       20. , 21.7, 19.3, 22.4, 28.1, 23.7, 25. , 23.3, 28.7, 21.5, 23. ,\n",
       "       26.7, 21.7, 27.5, 30.1, 44.8, 50. , 37.6, 31.6, 46.7, 31.5, 24.3,\n",
       "       31.7, 41.7, 48.3, 29. , 24. , 25.1, 31.5, 23.7, 23.3, 22. , 20.1,\n",
       "       22.2, 23.7, 17.6, 18.5, 24.3, 20.5, 24.5, 26.2, 24.4, 24.8, 29.6,\n",
       "       42.8, 21.9, 20.9, 44. , 50. , 36. , 30.1, 33.8, 43.1, 48.8, 31. ,\n",
       "       36.5, 22.8, 30.7, 50. , 43.5, 20.7, 21.1, 25.2, 24.4, 35.2, 32.4,\n",
       "       32. , 33.2, 33.1, 29.1, 35.1, 45.4, 35.4, 46. , 50. , 32.2, 22. ,\n",
       "       20.1, 23.2, 22.3, 24.8, 28.5, 37.3, 27.9, 23.9, 21.7, 28.6, 27.1,\n",
       "       20.3, 22.5, 29. , 24.8, 22. , 26.4, 33.1, 36.1, 28.4, 33.4, 28.2,\n",
       "       22.8, 20.3, 16.1, 22.1, 19.4, 21.6, 23.8, 16.2, 17.8, 19.8, 23.1,\n",
       "       21. , 23.8, 23.1, 20.4, 18.5, 25. , 24.6, 23. , 22.2, 19.3, 22.6,\n",
       "       19.8, 17.1, 19.4, 22.2, 20.7, 21.1, 19.5, 18.5, 20.6, 19. , 18.7,\n",
       "       32.7, 16.5, 23.9, 31.2, 17.5, 17.2, 23.1, 24.5, 26.6, 22.9, 24.1,\n",
       "       18.6, 30.1, 18.2, 20.6, 17.8, 21.7, 22.7, 22.6, 25. , 19.9, 20.8,\n",
       "       16.8, 21.9, 27.5, 21.9, 23.1, 50. , 50. , 50. , 50. , 50. , 13.8,\n",
       "       13.8, 15. , 13.9, 13.3, 13.1, 10.2, 10.4, 10.9, 11.3, 12.3,  8.8,\n",
       "        7.2, 10.5,  7.4, 10.2, 11.5, 15.1, 23.2,  9.7, 13.8, 12.7, 13.1,\n",
       "       12.5,  8.5,  5. ,  6.3,  5.6,  7.2, 12.1,  8.3,  8.5,  5. , 11.9,\n",
       "       27.9, 17.2, 27.5, 15. , 17.2, 17.9, 16.3,  7. ,  7.2,  7.5, 10.4,\n",
       "        8.8,  8.4, 16.7, 14.2, 20.8, 13.4, 11.7,  8.3, 10.2, 10.9, 11. ,\n",
       "        9.5, 14.5, 14.1, 16.1, 14.3, 11.7, 13.4,  9.6,  8.7,  8.4, 12.8,\n",
       "       10.5, 17.1, 18.4, 15.4, 10.8, 11.8, 14.9, 12.6, 14.1, 13. , 13.4,\n",
       "       15.2, 16.1, 17.8, 14.9, 14.1, 12.7, 13.5, 14.9, 20. , 16.4, 17.7,\n",
       "       19.5, 20.2, 21.4, 19.9, 19. , 19.1, 19.1, 20.1, 19.9, 19.6, 23.2,\n",
       "       29.8, 13.8, 13.3, 16.7, 12. , 14.6, 21.4, 23. , 23.7, 25. , 21.8,\n",
       "       20.6, 21.2, 19.1, 20.6, 15.2,  7. ,  8.1, 13.6, 20.1, 21.8, 24.5,\n",
       "       23.1, 19.7, 18.3, 21.2, 17.5, 16.8, 22.4, 20.6, 23.9, 22. , 11.9])"
      ]
     },
     "execution_count": 22,
     "metadata": {},
     "output_type": "execute_result"
    }
   ],
   "source": [
    "boston.target"
   ]
  },
  {
   "cell_type": "code",
   "execution_count": 23,
   "id": "australian-section",
   "metadata": {},
   "outputs": [
    {
     "data": {
      "text/plain": [
       "<matplotlib.collections.PathCollection at 0x7f908fda7b10>"
      ]
     },
     "execution_count": 23,
     "metadata": {},
     "output_type": "execute_result"
    },
    {
     "data": {
      "image/png": "[encoded data removed]",
      "text/plain": [
       "<Figure size 432x288 with 1 Axes>"
      ]
     },
     "metadata": {
      "needs_background": "light"
     },
     "output_type": "display_data"
    }
   ],
   "source": [
    "# 방의 개수와 산점도\n",
    "plt.scatter(boston.data[:,5], boston.target, color=\"r\", s=10)"
   ]
  },
  {
   "cell_type": "code",
   "execution_count": 24,
   "id": "excited-newspaper",
   "metadata": {},
   "outputs": [
    {
     "name": "stdout",
     "output_type": "stream",
     "text": [
      "(506,)\n"
     ]
    }
   ],
   "source": [
    "# attribute 하나로, linear regression 실험\n",
    "X = boston.data[:, 5]\n",
    "print(X.shape)"
   ]
  },
  {
   "cell_type": "code",
   "execution_count": 25,
   "id": "focused-concentration",
   "metadata": {},
   "outputs": [
    {
     "data": {
      "text/plain": [
       "array([6.575, 6.421, 7.185, 6.998, 7.147, 6.43 , 6.012, 6.172, 5.631,\n",
       "       6.004, 6.377, 6.009, 5.889, 5.949, 6.096, 5.834, 5.935, 5.99 ,\n",
       "       5.456, 5.727, 5.57 , 5.965, 6.142, 5.813, 5.924, 5.599, 5.813,\n",
       "       6.047, 6.495, 6.674, 5.713, 6.072, 5.95 , 5.701, 6.096, 5.933,\n",
       "       5.841, 5.85 , 5.966, 6.595, 7.024, 6.77 , 6.169, 6.211, 6.069,\n",
       "       5.682, 5.786, 6.03 , 5.399, 5.602, 5.963, 6.115, 6.511, 5.998,\n",
       "       5.888, 7.249, 6.383, 6.816, 6.145, 5.927, 5.741, 5.966, 6.456,\n",
       "       6.762, 7.104, 6.29 , 5.787, 5.878, 5.594, 5.885, 6.417, 5.961,\n",
       "       6.065, 6.245, 6.273, 6.286, 6.279, 6.14 , 6.232, 5.874, 6.727,\n",
       "       6.619, 6.302, 6.167, 6.389, 6.63 , 6.015, 6.121, 7.007, 7.079,\n",
       "       6.417, 6.405, 6.442, 6.211, 6.249, 6.625, 6.163, 8.069, 7.82 ,\n",
       "       7.416, 6.727, 6.781, 6.405, 6.137, 6.167, 5.851, 5.836, 6.127,\n",
       "       6.474, 6.229, 6.195, 6.715, 5.913, 6.092, 6.254, 5.928, 6.176,\n",
       "       6.021, 5.872, 5.731, 5.87 , 6.004, 5.961, 5.856, 5.879, 5.986,\n",
       "       5.613, 5.693, 6.431, 5.637, 6.458, 6.326, 6.372, 5.822, 5.757,\n",
       "       6.335, 5.942, 6.454, 5.857, 6.151, 6.174, 5.019, 5.403, 5.468,\n",
       "       4.903, 6.13 , 5.628, 4.926, 5.186, 5.597, 6.122, 5.404, 5.012,\n",
       "       5.709, 6.129, 6.152, 5.272, 6.943, 6.066, 6.51 , 6.25 , 7.489,\n",
       "       7.802, 8.375, 5.854, 6.101, 7.929, 5.877, 6.319, 6.402, 5.875,\n",
       "       5.88 , 5.572, 6.416, 5.859, 6.546, 6.02 , 6.315, 6.86 , 6.98 ,\n",
       "       7.765, 6.144, 7.155, 6.563, 5.604, 6.153, 7.831, 6.782, 6.556,\n",
       "       7.185, 6.951, 6.739, 7.178, 6.8  , 6.604, 7.875, 7.287, 7.107,\n",
       "       7.274, 6.975, 7.135, 6.162, 7.61 , 7.853, 8.034, 5.891, 6.326,\n",
       "       5.783, 6.064, 5.344, 5.96 , 5.404, 5.807, 6.375, 5.412, 6.182,\n",
       "       5.888, 6.642, 5.951, 6.373, 6.951, 6.164, 6.879, 6.618, 8.266,\n",
       "       8.725, 8.04 , 7.163, 7.686, 6.552, 5.981, 7.412, 8.337, 8.247,\n",
       "       6.726, 6.086, 6.631, 7.358, 6.481, 6.606, 6.897, 6.095, 6.358,\n",
       "       6.393, 5.593, 5.605, 6.108, 6.226, 6.433, 6.718, 6.487, 6.438,\n",
       "       6.957, 8.259, 6.108, 5.876, 7.454, 8.704, 7.333, 6.842, 7.203,\n",
       "       7.52 , 8.398, 7.327, 7.206, 5.56 , 7.014, 8.297, 7.47 , 5.92 ,\n",
       "       5.856, 6.24 , 6.538, 7.691, 6.758, 6.854, 7.267, 6.826, 6.482,\n",
       "       6.812, 7.82 , 6.968, 7.645, 7.923, 7.088, 6.453, 6.23 , 6.209,\n",
       "       6.315, 6.565, 6.861, 7.148, 6.63 , 6.127, 6.009, 6.678, 6.549,\n",
       "       5.79 , 6.345, 7.041, 6.871, 6.59 , 6.495, 6.982, 7.236, 6.616,\n",
       "       7.42 , 6.849, 6.635, 5.972, 4.973, 6.122, 6.023, 6.266, 6.567,\n",
       "       5.705, 5.914, 5.782, 6.382, 6.113, 6.426, 6.376, 6.041, 5.708,\n",
       "       6.415, 6.431, 6.312, 6.083, 5.868, 6.333, 6.144, 5.706, 6.031,\n",
       "       6.316, 6.31 , 6.037, 5.869, 5.895, 6.059, 5.985, 5.968, 7.241,\n",
       "       6.54 , 6.696, 6.874, 6.014, 5.898, 6.516, 6.635, 6.939, 6.49 ,\n",
       "       6.579, 5.884, 6.728, 5.663, 5.936, 6.212, 6.395, 6.127, 6.112,\n",
       "       6.398, 6.251, 5.362, 5.803, 8.78 , 3.561, 4.963, 3.863, 4.97 ,\n",
       "       6.683, 7.016, 6.216, 5.875, 4.906, 4.138, 7.313, 6.649, 6.794,\n",
       "       6.38 , 6.223, 6.968, 6.545, 5.536, 5.52 , 4.368, 5.277, 4.652,\n",
       "       5.   , 4.88 , 5.39 , 5.713, 6.051, 5.036, 6.193, 5.887, 6.471,\n",
       "       6.405, 5.747, 5.453, 5.852, 5.987, 6.343, 6.404, 5.349, 5.531,\n",
       "       5.683, 4.138, 5.608, 5.617, 6.852, 5.757, 6.657, 4.628, 5.155,\n",
       "       4.519, 6.434, 6.782, 5.304, 5.957, 6.824, 6.411, 6.006, 5.648,\n",
       "       6.103, 5.565, 5.896, 5.837, 6.202, 6.193, 6.38 , 6.348, 6.833,\n",
       "       6.425, 6.436, 6.208, 6.629, 6.461, 6.152, 5.935, 5.627, 5.818,\n",
       "       6.406, 6.219, 6.485, 5.854, 6.459, 6.341, 6.251, 6.185, 6.417,\n",
       "       6.749, 6.655, 6.297, 7.393, 6.728, 6.525, 5.976, 5.936, 6.301,\n",
       "       6.081, 6.701, 6.376, 6.317, 6.513, 6.209, 5.759, 5.952, 6.003,\n",
       "       5.926, 5.713, 6.167, 6.229, 6.437, 6.98 , 5.427, 6.162, 6.484,\n",
       "       5.304, 6.185, 6.229, 6.242, 6.75 , 7.061, 5.762, 5.871, 6.312,\n",
       "       6.114, 5.905, 5.454, 5.414, 5.093, 5.983, 5.983, 5.707, 5.926,\n",
       "       5.67 , 5.39 , 5.794, 6.019, 5.569, 6.027, 6.593, 6.12 , 6.976,\n",
       "       6.794, 6.03 ])"
      ]
     },
     "execution_count": 25,
     "metadata": {},
     "output_type": "execute_result"
    }
   ],
   "source": [
    "X"
   ]
  },
  {
   "cell_type": "code",
   "execution_count": 26,
   "id": "narrative-joining",
   "metadata": {},
   "outputs": [],
   "source": [
    "# LinearRegression의 함수에 인자로 전달하기 위해서는 \n",
    "#각 원소의 값이 담긴 2차원 배열을 (n,1)의 형태로 만들어야 함, atleat_2d 함수는 x데이터를 2차우너 배열을 (1,n)형태로 만들어줌"
   ]
  },
  {
   "cell_type": "code",
   "execution_count": 27,
   "id": "organic-decision",
   "metadata": {},
   "outputs": [],
   "source": [
    "X_1 = np.atleast_2d(X)"
   ]
  },
  {
   "cell_type": "code",
   "execution_count": 28,
   "id": "organic-joseph",
   "metadata": {},
   "outputs": [
    {
     "data": {
      "text/plain": [
       "(1, 506)"
      ]
     },
     "execution_count": 28,
     "metadata": {},
     "output_type": "execute_result"
    }
   ],
   "source": [
    "X_1.shape"
   ]
  },
  {
   "cell_type": "code",
   "execution_count": 29,
   "id": "adjacent-house",
   "metadata": {},
   "outputs": [
    {
     "name": "stdout",
     "output_type": "stream",
     "text": [
      "(506, 1)\n"
     ]
    }
   ],
   "source": [
    "X_2 =np.transpose(X_1)\n",
    "print(X_2.shape)"
   ]
  },
  {
   "cell_type": "code",
   "execution_count": 30,
   "id": "supported-commitment",
   "metadata": {},
   "outputs": [],
   "source": [
    "y = boston.target\n",
    "lr.fit(X_2, y)\n",
    "\n",
    "y_predicted = lr.predict(X_2)"
   ]
  },
  {
   "cell_type": "code",
   "execution_count": 31,
   "id": "external-monroe",
   "metadata": {},
   "outputs": [
    {
     "name": "stdout",
     "output_type": "stream",
     "text": [
      "w[0]: 9.102109 b: -34.670621\n"
     ]
    }
   ],
   "source": [
    "print(\"w[0]: %f b: %f\"%(lr.coef_[0],lr.intercept_))"
   ]
  },
  {
   "cell_type": "code",
   "execution_count": 32,
   "id": "early-macintosh",
   "metadata": {},
   "outputs": [
    {
     "data": {
      "text/plain": [
       "[<matplotlib.lines.Line2D at 0x7f90901fa850>]"
      ]
     },
     "execution_count": 32,
     "metadata": {},
     "output_type": "execute_result"
    },
    {
     "data": {
      "image/png": "[encoded data removed]",
      "text/plain": [
       "<Figure size 432x288 with 1 Axes>"
      ]
     },
     "metadata": {
      "needs_background": "light"
     },
     "output_type": "display_data"
    }
   ],
   "source": [
    "#모델 그래프로 그리기\n",
    "plt.plot(X_2, y_predicted)\n",
    "plt.plot(X_2,y,'o',color='r',markersize=3)"
   ]
  },
  {
   "cell_type": "code",
   "execution_count": 33,
   "id": "collaborative-honolulu",
   "metadata": {},
   "outputs": [
    {
     "name": "stdout",
     "output_type": "stream",
     "text": [
      "X_train.shape: (379, 13) X_test.shape: (127, 13)\n",
      "훈련 세트 점수: 0.77\n",
      "테스트 세트 점수: 0.64\n"
     ]
    }
   ],
   "source": [
    "#선형회귀 모델, 성능측정\n",
    "X_train, X_test, y_train, y_test = train_test_split(boston.data, boston.target, random_state=0)\n",
    "print(\"X_train.shape: {}\".format(X_train.shape), \"X_test.shape: {}\".format(X_test.shape))\n",
    "lr = LinearRegression().fit(X_train, y_train)\n",
    "print(\"훈련 세트 점수: {:.2f}\".format(lr.score(X_train, y_train)))\n",
    "print(\"테스트 세트 점수: {:.2f}\".format(lr.score(X_test, y_test)))"
   ]
  },
  {
   "cell_type": "code",
   "execution_count": 34,
   "id": "destroyed-aviation",
   "metadata": {},
   "outputs": [
    {
     "name": "stdout",
     "output_type": "stream",
     "text": [
      "X_train.shape: (379, 13) X_test.shape: (127, 13)\n",
      "훈련 세트 점수: 0.78\n",
      "테스트 세트 점수: 0.51\n"
     ]
    }
   ],
   "source": [
    "#KNN모델, 성능 측정\n",
    "X_train, X_test, y_train, y_test = train_test_split(boston.data, boston.target, random_state=0)\n",
    "print(\"X_train.shape: {}\".format(X_train.shape), \"X_test.shape: {}\".format(X_test.shape))\n",
    "kn = KNeighborsRegressor(n_neighbors =3).fit(X_train, y_train)\n",
    "print(\"훈련 세트 점수: {:.2f}\".format(kn.score(X_train, y_train)))\n",
    "print(\"테스트 세트 점수: {:.2f}\".format(kn.score(X_test, y_test)))"
   ]
  },
  {
   "cell_type": "markdown",
   "id": "ideal-settlement",
   "metadata": {},
   "source": [
    "# 보스톤 확장 데이터"
   ]
  },
  {
   "cell_type": "code",
   "execution_count": 35,
   "id": "resistant-council",
   "metadata": {},
   "outputs": [
    {
     "name": "stdout",
     "output_type": "stream",
     "text": [
      "X.shape: (506, 104)\n"
     ]
    }
   ],
   "source": [
    "X,y = mglearn.datasets.load_extended_boston()\n",
    "print(\"X.shape: {}\".format(X.shape))\n",
    "\n"
   ]
  },
  {
   "cell_type": "code",
   "execution_count": 36,
   "id": "agreed-month",
   "metadata": {},
   "outputs": [
    {
     "name": "stdout",
     "output_type": "stream",
     "text": [
      "X_train.shape: (379, 104) X_test.shape: (127, 104)\n",
      "훈련 세트 점수: 0.95\n",
      "테스트 세트 점수: 0.61\n"
     ]
    }
   ],
   "source": [
    "#선형회귀 모형 성능측정\n",
    "X_train, X_test, y_train, y_test = train_test_split(X, y, random_state=0)\n",
    "print(\"X_train.shape: {}\".format(X_train.shape), \"X_test.shape: {}\".format(X_test.shape))\n",
    "lr = LinearRegression().fit(X_train, y_train)\n",
    "print(\"훈련 세트 점수: {:.2f}\".format(lr.score(X_train, y_train)))\n",
    "print(\"테스트 세트 점수: {:.2f}\".format(lr.score(X_test, y_test)))"
   ]
  },
  {
   "cell_type": "code",
   "execution_count": 37,
   "id": "human-victoria",
   "metadata": {},
   "outputs": [
    {
     "name": "stdout",
     "output_type": "stream",
     "text": [
      "X_train.shape: (379, 104) X_test.shape: (127, 104)\n",
      "훈련 세트 점수: 0.90\n",
      "테스트 세트 점수: 0.61\n"
     ]
    }
   ],
   "source": [
    "#KNN모델, 성능 측정\n",
    "X_train, X_test, y_train, y_test = train_test_split(X, y, random_state=0)\n",
    "print(\"X_train.shape: {}\".format(X_train.shape), \"X_test.shape: {}\".format(X_test.shape))\n",
    "kn = KNeighborsRegressor(n_neighbors =3).fit(X_train, y_train)\n",
    "print(\"훈련 세트 점수: {:.2f}\".format(kn.score(X_train, y_train)))\n",
    "print(\"테스트 세트 점수: {:.2f}\".format(kn.score(X_test, y_test)))"
   ]
  },
  {
   "cell_type": "code",
   "execution_count": 38,
   "id": "outside-chester",
   "metadata": {},
   "outputs": [
    {
     "name": "stdout",
     "output_type": "stream",
     "text": [
      "선형모델\n",
      "X_train.shape: (253, 104) X_test.shape: (253, 104)\n",
      "훈련 세트 점수: 0.97\n",
      "테스트 세트 점수: 0.66\n",
      "KNN모델\n",
      "X_train.shape: (379, 104) X_test.shape: (127, 104)\n",
      "이웃수: 1\n",
      "훈련 세트 점수: 1.00\n",
      "테스트 세트 점수: 0.65\n",
      "이웃수: 2\n",
      "훈련 세트 점수: 0.94\n",
      "테스트 세트 점수: 0.65\n",
      "이웃수: 3\n",
      "훈련 세트 점수: 0.90\n",
      "테스트 세트 점수: 0.61\n",
      "이웃수: 4\n",
      "훈련 세트 점수: 0.87\n",
      "테스트 세트 점수: 0.60\n",
      "이웃수: 5\n",
      "훈련 세트 점수: 0.83\n",
      "테스트 세트 점수: 0.56\n",
      "이웃수: 6\n",
      "훈련 세트 점수: 0.81\n",
      "테스트 세트 점수: 0.56\n",
      "이웃수: 7\n",
      "훈련 세트 점수: 0.80\n",
      "테스트 세트 점수: 0.54\n",
      "이웃수: 8\n",
      "훈련 세트 점수: 0.78\n",
      "테스트 세트 점수: 0.56\n",
      "이웃수: 9\n",
      "훈련 세트 점수: 0.76\n",
      "테스트 세트 점수: 0.55\n",
      "이웃수: 10\n",
      "훈련 세트 점수: 0.75\n",
      "테스트 세트 점수: 0.54\n",
      "이웃수: 11\n",
      "훈련 세트 점수: 0.74\n",
      "테스트 세트 점수: 0.52\n",
      "이웃수: 12\n",
      "훈련 세트 점수: 0.73\n",
      "테스트 세트 점수: 0.53\n",
      "이웃수: 13\n",
      "훈련 세트 점수: 0.72\n",
      "테스트 세트 점수: 0.53\n",
      "이웃수: 14\n",
      "훈련 세트 점수: 0.72\n",
      "테스트 세트 점수: 0.52\n"
     ]
    }
   ],
   "source": [
    "#과대적합 피하도록 파라미터 조정해보기\n",
    "print(\"선형모델\")\n",
    "X_train, X_test, y_train, y_test = train_test_split(X, y, random_state=0, test_size = 0.5)\n",
    "print(\"X_train.shape: {}\".format(X_train.shape), \"X_test.shape: {}\".format(X_test.shape))\n",
    "lr = LinearRegression().fit(X_train, y_train)\n",
    "print(\"훈련 세트 점수: {:.2f}\".format(lr.score(X_train, y_train)))\n",
    "print(\"테스트 세트 점수: {:.2f}\".format(lr.score(X_test, y_test)))\n",
    "print(\"KNN모델\")\n",
    "X_train, X_test, y_train, y_test = train_test_split(X, y, random_state=0)\n",
    "print(\"X_train.shape: {}\".format(X_train.shape), \"X_test.shape: {}\".format(X_test.shape))\n",
    "for i in range(1, 15):\n",
    "    kn = KNeighborsRegressor(n_neighbors = i).fit(X_train, y_train)\n",
    "    print(\"이웃수: {}\".format(i))\n",
    "    print(\"훈련 세트 점수: {:.2f}\".format(kn.score(X_train, y_train)))\n",
    "    print(\"테스트 세트 점수: {:.2f}\".format(kn.score(X_test, y_test)))\n"
   ]
  },
  {
   "cell_type": "markdown",
   "id": "cordless-floor",
   "metadata": {},
   "source": [
    "# 릿지 회귀(Ridge Regression)"
   ]
  },
  {
   "cell_type": "code",
   "execution_count": 39,
   "id": "enormous-gateway",
   "metadata": {},
   "outputs": [],
   "source": [
    "# 가중치의 절댇값을 가능한 작게\n",
    "# w의 모든 원소가 0에 가깝게 하기\n",
    "# 모든 특성이 출력에 주는 형향을 최소한으로 만들기\n",
    "# 기울기를 작게 규제/제약"
   ]
  },
  {
   "cell_type": "code",
   "execution_count": 40,
   "id": "adult-pension",
   "metadata": {},
   "outputs": [],
   "source": [
    "# test data에 과적합 되지 않게 하는게 핵심임\n",
    "# 패널티가 0이면 효과가 없고 무한으로 늘어날 수록 penalty가 커짐\n",
    "# 어떤 특징을 많이 고려하지 않고, 비슷하게 반영하고 싶을 떄 사용\n",
    "# default 값은 1임"
   ]
  },
  {
   "cell_type": "code",
   "execution_count": 41,
   "id": "interstate-soccer",
   "metadata": {},
   "outputs": [],
   "source": [
    "from sklearn.linear_model import Ridge"
   ]
  },
  {
   "cell_type": "code",
   "execution_count": 42,
   "id": "solar-sauce",
   "metadata": {},
   "outputs": [
    {
     "name": "stdout",
     "output_type": "stream",
     "text": [
      "X.shape: (506, 104)\n",
      "X_train.shape: (379, 104) X_test.shape: (127, 104)\n"
     ]
    }
   ],
   "source": [
    "#데이터 불러오기\n",
    "X,y = mglearn.datasets.load_extended_boston()\n",
    "X_train, X_test, y_train, y_test = train_test_split(X, y, random_state=0)\n",
    "print(\"X.shape: {}\".format(X.shape))\n",
    "print(\"X_train.shape: {}\".format(X_train.shape), \"X_test.shape: {}\".format(X_test.shape))\n"
   ]
  },
  {
   "cell_type": "code",
   "execution_count": 43,
   "id": "breeding-permission",
   "metadata": {},
   "outputs": [
    {
     "name": "stdout",
     "output_type": "stream",
     "text": [
      "릿지 회귀\n",
      "훈련 세트 점수: 0.89\n",
      "훈련 세트 점수: 0.75\n"
     ]
    }
   ],
   "source": [
    "print(\"릿지 회귀\")\n",
    "ridge = Ridge().fit(X_train, y_train) # penalty가 default로 1로 적용되어 있음\n",
    "print(\"훈련 세트 점수: {:.2f}\".format(ridge.score(X_train, y_train)))\n",
    "print(\"훈련 세트 점수: {:.2f}\".format(ridge.score(X_test, y_test)))"
   ]
  },
  {
   "cell_type": "code",
   "execution_count": 44,
   "id": "linear-huntington",
   "metadata": {},
   "outputs": [
    {
     "name": "stdout",
     "output_type": "stream",
     "text": [
      "선형 회귀\n",
      "훈련 세트 점수: 0.95\n",
      "훈련 세트 점수: 0.61\n"
     ]
    }
   ],
   "source": [
    "print(\"선형 회귀\")\n",
    "lr = LinearRegression().fit(X_train, y_train)\n",
    "print(\"훈련 세트 점수: {:.2f}\".format(lr.score(X_train, y_train)))\n",
    "print(\"훈련 세트 점수: {:.2f}\".format(lr.score(X_test, y_test)))"
   ]
  },
  {
   "cell_type": "code",
   "execution_count": 45,
   "id": "hawaiian-halloween",
   "metadata": {},
   "outputs": [
    {
     "name": "stdout",
     "output_type": "stream",
     "text": [
      "KNN 회귀\n",
      "훈련 세트 점수: 0.90\n",
      "훈련 세트 점수: 0.61\n"
     ]
    }
   ],
   "source": [
    "print(\"KNN 회귀\")\n",
    "knn = KNeighborsRegressor(n_neighbors = 3).fit(X_train, y_train)\n",
    "print(\"훈련 세트 점수: {:.2f}\".format(knn.score(X_train, y_train)))\n",
    "print(\"훈련 세트 점수: {:.2f}\".format(knn.score(X_test, y_test)))"
   ]
  },
  {
   "cell_type": "code",
   "execution_count": 46,
   "id": "marine-compound",
   "metadata": {},
   "outputs": [
    {
     "name": "stdout",
     "output_type": "stream",
     "text": [
      "릿지 회귀 alpah값: 10\n",
      "훈련 세트 점수: 0.79\n",
      "훈련 세트 점수: 0.64\n",
      "릿지 회귀 alpah값: 5\n",
      "훈련 세트 점수: 0.82\n",
      "훈련 세트 점수: 0.68\n",
      "릿지 회귀 alpah값: 0.5\n",
      "훈련 세트 점수: 0.90\n",
      "훈련 세트 점수: 0.77\n",
      "릿지 회귀 alpah값: 0.3\n",
      "훈련 세트 점수: 0.91\n",
      "훈련 세트 점수: 0.77\n",
      "릿지 회귀 alpah값: 0.2\n",
      "훈련 세트 점수: 0.92\n",
      "훈련 세트 점수: 0.77\n",
      "릿지 회귀 alpah값: 0.1\n",
      "훈련 세트 점수: 0.93\n",
      "훈련 세트 점수: 0.77\n",
      "릿지 회귀 alpah값: 0.01\n",
      "훈련 세트 점수: 0.94\n",
      "훈련 세트 점수: 0.70\n"
     ]
    }
   ],
   "source": [
    "# alpha 값에 따른 결과값 분석\n",
    "for i in [10, 5, 0.5, 0.3, 0.2, 0.1, 0.01]:\n",
    "    print(\"릿지 회귀 alpah값: \"+ str(i))\n",
    "    ridge = Ridge(alpha = i).fit(X_train, y_train)\n",
    "    print(\"훈련 세트 점수: {:.2f}\".format(ridge.score(X_train, y_train)))\n",
    "    print(\"훈련 세트 점수: {:.2f}\".format(ridge.score(X_test, y_test)))"
   ]
  },
  {
   "cell_type": "code",
   "execution_count": 47,
   "id": "personalized-airplane",
   "metadata": {},
   "outputs": [
    {
     "name": "stdout",
     "output_type": "stream",
     "text": [
      "[ -2.353  -9.15  -28.626  -8.749  -3.706  37.011  27.448 -19.65   16.147\n",
      "  -3.225   2.37   17.165  -5.998   9.682   0.302   2.131  27.289 -10.704\n",
      "  13.796 -12.566   4.61   -5.945  -2.343  -4.372  -0.278   9.614   1.006\n",
      "  -3.466   3.871 -16.602   5.437  -1.974  -6.727   1.669  13.071  -0.014\n",
      "   7.977  -8.68   16.275   0.662  20.767  20.457  10.618  14.494  13.09\n",
      "  11.568 -10.908  -3.045 -22.37   -8.749 -15.841 -25.862   8.635  -2.86\n",
      "   9.115   1.743  -4.42   36.147 -13.273  -2.928   9.47  -13.661  11.867\n",
      " -10.506   2.531 -14.277   3.398  15.357  18.901 -30.239  12.517  -7.424\n",
      " -32.728 -27.035  10.175  -5.529   0.964   4.485  27.178 -18.083  -1.864\n",
      " -14.516 -23.23   29.564   2.705   1.057  -8.491 -25.004  13.367 -34.38\n",
      "  34.11   -2.649 -13.014 -18.273  -4.716  20.032   3.992  -8.695   3.597\n",
      "   7.451   8.875   0.177  -4.542  30.642]\n"
     ]
    }
   ],
   "source": [
    "print(ridge.coef_)"
   ]
  },
  {
   "cell_type": "code",
   "execution_count": 48,
   "id": "proprietary-buffalo",
   "metadata": {},
   "outputs": [
    {
     "name": "stdout",
     "output_type": "stream",
     "text": [
      "xlims[0]은 무슨값이 나올까 \n",
      "-5.15\n",
      "xlims[1]은 무슨값이 나올까 \n",
      "108.15\n"
     ]
    },
    {
     "data": {
      "image/png": "[encoded data removed]",
      "text/plain": [
       "<Figure size 432x288 with 1 Axes>"
      ]
     },
     "metadata": {
      "needs_background": "light"
     },
     "output_type": "display_data"
    }
   ],
   "source": [
    "# 도식화 해보기\n",
    "ridge01 = Ridge(alpha = 0.1).fit(X_train, y_train)\n",
    "ridge10 = Ridge(alpha = 10).fit(X_train, y_train)\n",
    "ridge = Ridge(alpha = 1).fit(X_train, y_train)\n",
    "lr = LinearRegression().fit(X_train, y_train)\n",
    "\n",
    "\n",
    "plt.plot(ridge10.coef_, '^', label =\"Ridge alpha = 10\")\n",
    "plt.plot(ridge01.coef_, 's', label =\"Ridge alpha = 0.1\")\n",
    "plt.plot(ridge.coef_, 'v', label =\"Ridge alpha = 1\")\n",
    "plt.plot(lr.coef_, 'o', label =\"LinearRegression\")\n",
    "\n",
    "plt.xlabel(\"계수 목록\")\n",
    "plt.ylabel(\"계수 크기\")\n",
    "xlims = plt.xlim()\n",
    "plt.hlines(0, xlims[0], xlims[1])\n",
    "plt.xlim(xlims)\n",
    "plt.ylim(-25, 25)\n",
    "plt.legend()\n",
    "\n",
    "print(\"xlims[0]은 무슨값이 나올까 \\n\" + str(xlims[0]))\n",
    "print(\"xlims[1]은 무슨값이 나올까 \\n\" + str(xlims[1]))"
   ]
  },
  {
   "cell_type": "code",
   "execution_count": 49,
   "id": "direct-regard",
   "metadata": {},
   "outputs": [],
   "source": [
    "# 라쏘(lasso) 회귀\n",
    "#가중치의 영향을 최소화 할 수 있음\n",
    "# 가중치가 0 이될 수 있음, 특징을 선별해서 해석력을 보인다는 말임, 몇 가지 특성을 완전 제거할 떄\n",
    "\n"
   ]
  },
  {
   "cell_type": "code",
   "execution_count": 50,
   "id": "following-drunk",
   "metadata": {},
   "outputs": [],
   "source": [
    "from sklearn.linear_model import Lasso"
   ]
  },
  {
   "cell_type": "code",
   "execution_count": 51,
   "id": "frank-brooks",
   "metadata": {},
   "outputs": [
    {
     "name": "stdout",
     "output_type": "stream",
     "text": [
      "X.shape: (506, 104)\n",
      "X_train.shape: (379, 104) X_test.shape: (127, 104)\n"
     ]
    }
   ],
   "source": [
    "#데이터 불러오기\n",
    "X,y = mglearn.datasets.load_extended_boston()\n",
    "X_train, X_test, y_train, y_test = train_test_split(X, y, random_state=0)\n",
    "print(\"X.shape: {}\".format(X.shape))\n",
    "print(\"X_train.shape: {}\".format(X_train.shape), \"X_test.shape: {}\".format(X_test.shape))\n"
   ]
  },
  {
   "cell_type": "code",
   "execution_count": 52,
   "id": "appreciated-combination",
   "metadata": {},
   "outputs": [
    {
     "name": "stdout",
     "output_type": "stream",
     "text": [
      "라쏘 회귀\n",
      "훈련 세트 점수: 0.29\n",
      "훈련 세트 점수: 0.21\n"
     ]
    }
   ],
   "source": [
    "print(\"라쏘 회귀\")\n",
    "lasso = Lasso().fit(X_train, y_train) # penalty가 default로 1로 적용되어 있음\n",
    "print(\"훈련 세트 점수: {:.2f}\".format(lasso.score(X_train, y_train)))\n",
    "print(\"훈련 세트 점수: {:.2f}\".format(lasso.score(X_test, y_test)))\n"
   ]
  },
  {
   "cell_type": "code",
   "execution_count": 53,
   "id": "japanese-classification",
   "metadata": {},
   "outputs": [
    {
     "name": "stdout",
     "output_type": "stream",
     "text": [
      "사용한 특성의 개수: 4\n"
     ]
    }
   ],
   "source": [
    "print(\"사용한 특성의 개수: {}\".format(np.sum(lasso.coef_ != 0)))"
   ]
  },
  {
   "cell_type": "code",
   "execution_count": 54,
   "id": "shared-leisure",
   "metadata": {},
   "outputs": [
    {
     "name": "stdout",
     "output_type": "stream",
     "text": [
      "[False False False False False False False False False False False False\n",
      "  True False False False False False False False False False False False\n",
      " False False False False False False False False False False False False\n",
      " False False False False False False False False False False False False\n",
      " False False False False False False False False False False False False\n",
      " False False False False False False False False False False False False\n",
      " False False False False False False False  True  True False False False\n",
      " False False False False False  True False False False False False False\n",
      " False False False False False False False False]\n"
     ]
    }
   ],
   "source": [
    "print(lasso.coef_ != 0)"
   ]
  },
  {
   "cell_type": "code",
   "execution_count": 55,
   "id": "linear-franklin",
   "metadata": {},
   "outputs": [
    {
     "name": "stdout",
     "output_type": "stream",
     "text": [
      "릿지 회귀 alpah값: 5\n",
      "훈련 세트 점수: 0.00\n",
      "훈련 세트 점수: -0.00\n",
      "사용한 특성의 개수: 0\n",
      "\n",
      "릿지 회귀 alpah값: 1\n",
      "훈련 세트 점수: 0.29\n",
      "훈련 세트 점수: 0.21\n",
      "사용한 특성의 개수: 4\n",
      "\n",
      "릿지 회귀 alpah값: 0.01\n",
      "훈련 세트 점수: 0.90\n",
      "훈련 세트 점수: 0.77\n",
      "사용한 특성의 개수: 32\n",
      "\n",
      "릿지 회귀 alpah값: 0.0001\n",
      "훈련 세트 점수: 0.94\n",
      "훈련 세트 점수: 0.70\n",
      "사용한 특성의 개수: 100\n",
      "\n"
     ]
    },
    {
     "name": "stderr",
     "output_type": "stream",
     "text": [
      "/Users/sinjaeug/anaconda3/envs/mllecture/lib/python3.7/site-packages/sklearn/linear_model/_coordinate_descent.py:532: ConvergenceWarning: Objective did not converge. You might want to increase the number of iterations. Duality gap: 46.90245800318053, tolerance: 3.233182126649077\n",
      "  positive)\n",
      "/Users/sinjaeug/anaconda3/envs/mllecture/lib/python3.7/site-packages/sklearn/linear_model/_coordinate_descent.py:532: ConvergenceWarning: Objective did not converge. You might want to increase the number of iterations. Duality gap: 943.9983395915556, tolerance: 3.233182126649077\n",
      "  positive)\n"
     ]
    }
   ],
   "source": [
    "# alpha 값에 따른 결과값 분석\n",
    "for i in [5, 1, 0.01, 0.0001]:\n",
    "    print(\"릿지 회귀 alpah값: \"+ str(i))\n",
    "    lasso = Lasso(alpha = i).fit(X_train, y_train)\n",
    "    print(\"훈련 세트 점수: {:.2f}\".format(lasso.score(X_train, y_train)))\n",
    "    print(\"훈련 세트 점수: {:.2f}\".format(lasso.score(X_test, y_test)))\n",
    "    print(\"사용한 특성의 개수: {}\".format(np.sum(lasso.coef_ != 0)))\n",
    "    print()"
   ]
  },
  {
   "cell_type": "code",
   "execution_count": 56,
   "id": "instant-manchester",
   "metadata": {},
   "outputs": [
    {
     "name": "stderr",
     "output_type": "stream",
     "text": [
      "/Users/sinjaeug/anaconda3/envs/mllecture/lib/python3.7/site-packages/sklearn/linear_model/_coordinate_descent.py:532: ConvergenceWarning: Objective did not converge. You might want to increase the number of iterations. Duality gap: 46.90245800318053, tolerance: 3.233182126649077\n",
      "  positive)\n",
      "/Users/sinjaeug/anaconda3/envs/mllecture/lib/python3.7/site-packages/sklearn/linear_model/_coordinate_descent.py:532: ConvergenceWarning: Objective did not converge. You might want to increase the number of iterations. Duality gap: 943.9983395915556, tolerance: 3.233182126649077\n",
      "  positive)\n"
     ]
    },
    {
     "data": {
      "text/plain": [
       "Text(0, 0.5, '계수 크기')"
      ]
     },
     "execution_count": 56,
     "metadata": {},
     "output_type": "execute_result"
    },
    {
     "data": {
      "image/png": "[encoded data removed]",
      "text/plain": [
       "<Figure size 432x288 with 1 Axes>"
      ]
     },
     "metadata": {
      "needs_background": "light"
     },
     "output_type": "display_data"
    }
   ],
   "source": [
    "#도식화\n",
    "lasso = Lasso(alpha = 1).fit(X_train, y_train)\n",
    "lasso001 = Lasso(alpha = 0.01).fit(X_train, y_train)\n",
    "lasso00001 = Lasso(alpha = 0.0001).fit(X_train, y_train)\n",
    "ridge01 = Ridge(alpha = 0.1).fit(X_train, y_train)\n",
    "\n",
    "\n",
    "plt.plot(lasso.coef_, 's', label =\"Lasso alpha = 1\")\n",
    "plt.plot(lasso001.coef_, '^', label =\"Lasso alpha = 0.01\")\n",
    "plt.plot(lasso00001.coef_, 'v', label =\"Lasso alpha = 0.0001\")\n",
    "plt.plot(ridge01.coef_, 'o', label =\"Ridge alpha = 0.1\")\n",
    "\n",
    "plt.legend(ncol=2, loc=(0, 1.05))\n",
    "plt.ylim(-25, 25)\n",
    "plt.xlabel(\"계수 목록\")\n",
    "plt.ylabel(\"계수 크기\")"
   ]
  },
  {
   "cell_type": "markdown",
   "id": "northern-calculation",
   "metadata": {},
   "source": [
    "# IRIS 로지스틱 회귀 분류\n"
   ]
  },
  {
   "cell_type": "code",
   "execution_count": 57,
   "id": "flying-course",
   "metadata": {},
   "outputs": [],
   "source": [
    "from sklearn.linear_model import LogisticRegression\n",
    "from sklearn import datasets"
   ]
  },
  {
   "cell_type": "code",
   "execution_count": 58,
   "id": "italian-rabbit",
   "metadata": {},
   "outputs": [
    {
     "name": "stdout",
     "output_type": "stream",
     "text": [
      "['data', 'target', 'frame', 'target_names', 'DESCR', 'feature_names', 'filename']\n",
      "타깃의 이름: ['setosa' 'versicolor' 'virginica']\n",
      "특성의 이름: ['sepal length (cm)', 'sepal width (cm)', 'petal length (cm)', 'petal width (cm)']\n",
      "아이리스 데이터 모양 (150, 4)\n",
      "(150, 1)\n",
      "(150,)\n"
     ]
    }
   ],
   "source": [
    "iris = datasets.load_iris()\n",
    "\n",
    "print(list(iris.keys()))\n",
    "print(\"타깃의 이름: {}\".format(iris['target_names']))\n",
    "print(\"특성의 이름: {}\".format(iris['feature_names']))\n",
    "print(\"아이리스 데이터 모양\", iris['data'].shape)\n",
    "X = iris['data'][:,3:] #petal width\n",
    "print(X.shape)\n",
    "y = (iris['target']==2).astype(np.int) #virginica이면 1 아니면 0\n",
    "print(y.shape)\n"
   ]
  },
  {
   "cell_type": "code",
   "execution_count": 59,
   "id": "dominant-pennsylvania",
   "metadata": {},
   "outputs": [
    {
     "data": {
      "image/png": "[encoded data removed]",
      "text/plain": [
       "<Figure size 432x288 with 1 Axes>"
      ]
     },
     "metadata": {
      "needs_background": "light"
     },
     "output_type": "display_data"
    }
   ],
   "source": [
    "log_reg = LogisticRegression()\n",
    "log_reg.fit(X,y)\n",
    "\n",
    "#꽃잎의 너비가 0-3cm인 꽃에 대해 모델의 추정 확률\n",
    "X_new = np.linspace(0,3,1000).reshape(-1,1)\n",
    "y_proba = log_reg.predict_proba(X_new)\n",
    "\n",
    "plt.plot(X, y, \"b.\")\n",
    "plt.plot(X_new, y_proba[:,1], \"g-\", label=\"iris_Virginica\")\n",
    "plt.plot(X_new, y_proba[:,0], \"b--\", label=\"Not iris_Virginica\")\n",
    "plt.xlabel(\"Petal width\", fontsize=14)\n",
    "plt.ylabel(\"Probability\", fontsize=14)\n",
    "plt.legend(loc = \"upper left\", fontsize=14)\n",
    "plt.show()\n"
   ]
  },
  {
   "cell_type": "markdown",
   "id": "canadian-tourist",
   "metadata": {},
   "source": [
    "# 로지스틱 분류, svm분류"
   ]
  },
  {
   "cell_type": "code",
   "execution_count": 60,
   "id": "generous-possibility",
   "metadata": {
    "scrolled": true
   },
   "outputs": [
    {
     "name": "stderr",
     "output_type": "stream",
     "text": [
      "/Users/sinjaeug/anaconda3/envs/mllecture/lib/python3.7/site-packages/sklearn/utils/deprecation.py:86: FutureWarning: Function make_blobs is deprecated; Please import make_blobs directly from scikit-learn\n",
      "  warnings.warn(msg, category=FutureWarning)\n",
      "/Users/sinjaeug/anaconda3/envs/mllecture/lib/python3.7/site-packages/sklearn/svm/_base.py:986: ConvergenceWarning: Liblinear failed to converge, increase the number of iterations.\n",
      "  \"the number of iterations.\", ConvergenceWarning)\n"
     ]
    },
    {
     "data": {
      "text/plain": [
       "<matplotlib.legend.Legend at 0x7f9092b21050>"
      ]
     },
     "execution_count": 60,
     "metadata": {},
     "output_type": "execute_result"
    },
    {
     "data": {
      "image/png": "[encoded data removed]",
      "text/plain": [
       "<Figure size 720x216 with 2 Axes>"
      ]
     },
     "metadata": {},
     "output_type": "display_data"
    }
   ],
   "source": [
    "from sklearn.linear_model import LogisticRegression\n",
    "from sklearn.svm import LinearSVC\n",
    "\n",
    "X, y = mglearn.datasets.make_forge()\n",
    "\n",
    "fig, axes = plt.subplots(1,2, figsize=(10,3))\n",
    "\n",
    "for model, ax in zip([LinearSVC(), LogisticRegression()], axes):\n",
    "    clf = model.fit(X,y)\n",
    "    mglearn.plots.plot_2d_separator(clf, X, fill= False, eps = 0.5, ax = ax, alpha =.7)\n",
    "    mglearn.discrete_scatter(X[:,0], X[:,1],y, ax=ax)\n",
    "    ax.set_title(\"{}\".format(clf.__class__.__name__))\n",
    "    ax.set_xlabel(\"특성 0\")\n",
    "    ax.set_ylabel(\"특성 1\")\n",
    "axes[0].legend()"
   ]
  },
  {
   "cell_type": "markdown",
   "id": "strong-ultimate",
   "metadata": {},
   "source": [
    "# cancer data 분류: malignant vs benign"
   ]
  },
  {
   "cell_type": "code",
   "execution_count": 61,
   "id": "refined-working",
   "metadata": {},
   "outputs": [
    {
     "name": "stdout",
     "output_type": "stream",
     "text": [
      "Penalty1\n",
      "훈련 세트 점수: 0.958\n",
      "테스트 세트 점수: 0.958\n",
      "Penalty100\n",
      "훈련 세트 점수: 0.984\n",
      "테스트 세트 점수: 0.965\n",
      "Penalty0.01\n",
      "훈련 세트 점수: 0.953\n",
      "테스트 세트 점수: 0.951\n"
     ]
    }
   ],
   "source": [
    "from sklearn.datasets import load_breast_cancer\n",
    "cancer = load_breast_cancer()\n",
    "\n",
    "X_train, X_test, y_train, y_test =train_test_split(cancer.data, cancer.target, stratify=cancer.target, random_state=42)\n",
    "for i in [1, 100, 0.01]:\n",
    "    logreg = LogisticRegression(C = i, max_iter =5000).fit(X_train, y_train)\n",
    "    print(\"Penalty\" + str(i))\n",
    "    print(\"훈련 세트 점수: {:.3f}\".format(logreg.score(X_train, y_train)))\n",
    "    print(\"테스트 세트 점수: {:.3f}\".format(logreg.score(X_test, y_test)))\n"
   ]
  },
  {
   "cell_type": "code",
   "execution_count": null,
   "id": "biological-associate",
   "metadata": {},
   "outputs": [],
   "source": []
  }
 ],
 "metadata": {
  "kernelspec": {
   "display_name": "Python 3",
   "language": "python",
   "name": "python3"
  },
  "language_info": {
   "codemirror_mode": {
    "name": "ipython",
    "version": 3
   },
   "file_extension": ".py",
   "mimetype": "text/x-python",
   "name": "python",
   "nbconvert_exporter": "python",
   "pygments_lexer": "ipython3",
   "version": "3.7.7"
  }
 },
 "nbformat": 4,
 "nbformat_minor": 5
}
